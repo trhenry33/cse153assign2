{
 "cells": [
  {
   "cell_type": "code",
   "execution_count": null,
   "id": "ad7784a3",
   "metadata": {},
   "outputs": [],
   "source": [
    "https://github.com/jukedeck/nottingham-dataset/tree/master/MIDI/chords"
   ]
  }
 ],
 "metadata": {
  "language_info": {
   "name": "python"
  }
 },
 "nbformat": 4,
 "nbformat_minor": 5
}
