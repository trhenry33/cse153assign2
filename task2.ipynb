{
 "cells": [
  {
   "cell_type": "markdown",
   "id": "f4b55dc4",
   "metadata": {},
   "source": [
    "https://github.com/jukedeck/nottingham-dataset/tree/master/MIDI/chords\n",
    "\n",
    "Chord -> melody training"
   ]
  }
 ],
 "metadata": {
  "language_info": {
   "name": "python"
  }
 },
 "nbformat": 4,
 "nbformat_minor": 5
}
