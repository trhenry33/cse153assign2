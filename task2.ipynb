{
 "cells": [
  {
   "cell_type": "markdown",
   "id": "f4b55dc4",
   "metadata": {},
   "source": [
    "https://github.com/jukedeck/nottingham-dataset/tree/master/MIDI/chords\n",
    "\n",
    "Chord -> melody training"
   ]
  },
  {
   "cell_type": "code",
   "execution_count": 12,
   "id": "6cb4ff34",
   "metadata": {},
   "outputs": [],
   "source": [
    "# Probably more imports than are really necessary...\n",
    "import os\n",
    "import torch\n",
    "import torchaudio\n",
    "from torch.utils.data import Dataset, DataLoader, random_split\n",
    "import torch.nn as nn\n",
    "import torch.nn.functional as F\n",
    "from torchaudio.transforms import MelSpectrogram, AmplitudeToDB\n",
    "from tqdm import tqdm\n",
    "import librosa\n",
    "import numpy as np\n",
    "import miditoolkit\n",
    "from sklearn.linear_model import LogisticRegression\n",
    "from sklearn.metrics import f1_score, average_precision_score, accuracy_score\n",
    "import random"
   ]
  },
  {
   "cell_type": "code",
   "execution_count": 13,
   "id": "5913e123",
   "metadata": {},
   "outputs": [],
   "source": [
    "def get_midi_paths(root_dir):\n",
    "    midi_paths = []\n",
    "    for root, _, files in os.walk(root_dir):\n",
    "        for file in files:\n",
    "            if file.lower().endswith('.mid') or file.lower().endswith('.midi'):\n",
    "                midi_paths.append(os.path.join(root, file))\n",
    "    return sorted(midi_paths)\n",
    "\n",
    "midi_root = 'nottingham-data/MIDI'\n",
    "midi_files = get_midi_paths(midi_root)"
   ]
  },
  {
   "cell_type": "code",
   "execution_count": 14,
   "id": "f2cf5a1f",
   "metadata": {},
   "outputs": [],
   "source": [
    "def extract_chords_and_melody(midi_path):\n",
    "    midi_obj = miditoolkit.midi.parser.MidiFile(midi_path)\n",
    "    notes = [note for note in midi_obj.instruments[0].notes if not note.is_drum]\n",
    "    \n",
    "    # Sort notes\n",
    "    notes.sort(key=lambda x: x.start)\n",
    "\n",
    "    # Extract melody (assuming track 0 is melody)\n",
    "    melody = []\n",
    "    for note in notes:\n",
    "        pitch = note.pitch\n",
    "        start = note.start / midi_obj.ticks_per_beat\n",
    "        duration = (note.end - note.start) / midi_obj.ticks_per_beat\n",
    "        melody.append((pitch, start, duration))\n",
    "\n",
    "    # Use built-in chord extraction (or a heuristic)\n",
    "    chords = []  # Replace with a real extraction\n",
    "    for chord in midi_obj.markers:\n",
    "        chords.append((chord.text, chord.time / midi_obj.ticks_per_beat))\n",
    "\n",
    "    return chords, melody\n"
   ]
  },
  {
   "cell_type": "markdown",
   "id": "d55f8b3a",
   "metadata": {},
   "source": [
    "### Tokenize"
   ]
  },
  {
   "cell_type": "code",
   "execution_count": 15,
   "id": "879b358c",
   "metadata": {},
   "outputs": [],
   "source": [
    "def chord_to_token(chord_name):\n",
    "    return f\"[{chord_name}]\"\n",
    "def melody_to_tokens(melody, step=0.25):\n",
    "    tokens = []\n",
    "    for pitch, start, dur in melody:\n",
    "        pitch_str = f\"{pitch}_{round(dur, 2)}\"\n",
    "        tokens.append(pitch_str)\n",
    "    return tokens\n"
   ]
  },
  {
   "cell_type": "markdown",
   "id": "fbacf4fa",
   "metadata": {},
   "source": [
    "### Dataset Class"
   ]
  },
  {
   "cell_type": "code",
   "execution_count": 16,
   "id": "e0ff3099",
   "metadata": {},
   "outputs": [],
   "source": [
    "class ChordMelodyDataset(Dataset):\n",
    "    def __init__(self, midi_dir):\n",
    "        self.data = []\n",
    "        for fname in os.listdir(midi_dir):\n",
    "            if fname.endswith('.mid'):\n",
    "                chords, melody = extract_chords_and_melody(os.path.join(midi_dir, fname))\n",
    "                chord_tokens = [chord_to_token(c[0]) for c in chords]\n",
    "                melody_tokens = melody_to_tokens(melody)\n",
    "                if len(chord_tokens) > 0 and len(melody_tokens) > 0:\n",
    "                    self.data.append((chord_tokens, melody_tokens))\n",
    "\n",
    "    def __len__(self):\n",
    "        return len(self.data)\n",
    "\n",
    "    def __getitem__(self, idx):\n",
    "        chords, melody = self.data[idx]\n",
    "        return chords, melody\n"
   ]
  },
  {
   "cell_type": "markdown",
   "id": "c4d08cfe",
   "metadata": {},
   "source": [
    "### Model Build"
   ]
  },
  {
   "cell_type": "code",
   "execution_count": 17,
   "id": "256bf807",
   "metadata": {},
   "outputs": [],
   "source": [
    "class ChordToMelody(nn.Module):\n",
    "    def __init__(self, vocab_size, embed_dim=128, hidden_dim=256):\n",
    "        super().__init__()\n",
    "        self.embedding = nn.Embedding(vocab_size, embed_dim)\n",
    "        self.encoder = nn.LSTM(embed_dim, hidden_dim, batch_first=True)\n",
    "        self.decoder = nn.LSTM(embed_dim, hidden_dim, batch_first=True)\n",
    "        self.output = nn.Linear(hidden_dim, vocab_size)\n",
    "\n",
    "    def forward(self, chord_seq, melody_seq):\n",
    "        embedded_chords = self.embedding(chord_seq)\n",
    "        _, (hidden, cell) = self.encoder(embedded_chords)\n",
    "\n",
    "        embedded_melody = self.embedding(melody_seq)\n",
    "        output, _ = self.decoder(embedded_melody, (hidden, cell))\n",
    "        logits = self.output(output)\n",
    "        return logits\n"
   ]
  },
  {
   "cell_type": "markdown",
   "id": "c24619a9",
   "metadata": {},
   "source": [
    "### Get Our Tokens"
   ]
  },
  {
   "cell_type": "code",
   "execution_count": 36,
   "id": "26e70580",
   "metadata": {},
   "outputs": [
    {
     "name": "stdout",
     "output_type": "stream",
     "text": [
      "✅ Extracted 1021 chord–melody token sequences.\n",
      "🎵 Sample chord tokens: ['[N]', '[N]', '[N]', '[N]', '[N]', '[N]', '[N]', '[N]', '[N]', '[N]']\n",
      "🎶 Sample melody tokens: ['76_1.00', '74_2.00', '71_1.00', '69_1.50', '71_0.50', '72_1.00', '71_2.00', '67_1.00', '69_2.00', '76_1.00']\n"
     ]
    }
   ],
   "source": [
    "\n",
    "\n",
    "### --- STEP 1: Pair MIDI files from melody/ and chords/ ---\n",
    "def get_melody_chord_pairs(midi_root):\n",
    "    melody_dir = os.path.join(midi_root, 'melody')\n",
    "    chords_dir = os.path.join(midi_root, 'chords')\n",
    "\n",
    "    melody_files = sorted([f for f in os.listdir(melody_dir) if f.endswith('.mid')])\n",
    "    chord_files = sorted([f for f in os.listdir(chords_dir) if f.endswith('.mid')])\n",
    "\n",
    "    pairs = []\n",
    "    for fname in melody_files:\n",
    "        melody_path = os.path.join(melody_dir, fname)\n",
    "        chord_path = os.path.join(chords_dir, fname)\n",
    "        if os.path.exists(chord_path):\n",
    "            pairs.append((chord_path, melody_path))\n",
    "    return pairs\n",
    "\n",
    "### --- STEP 2: Load and parse MIDI files ---\n",
    "def load_pair(chord_path, melody_path):\n",
    "    chords_midi = miditoolkit.MidiFile(chord_path)\n",
    "    melody_midi = miditoolkit.MidiFile(melody_path)\n",
    "    return chords_midi, melody_midi\n",
    "\n",
    "### --- STEP 3: Extract melody tokens ---\n",
    "def extract_melody_tokens(midi, quantize_step=0.25):\n",
    "    notes = midi.instruments[0].notes\n",
    "    ticks_per_beat = midi.ticks_per_beat\n",
    "    tokens = []\n",
    "    for note in notes:\n",
    "        start_beat = note.start / ticks_per_beat\n",
    "        duration_beat = round((note.end - note.start) / ticks_per_beat / quantize_step) * quantize_step\n",
    "        pitch = note.pitch\n",
    "        tokens.append(f\"{pitch}_{duration_beat:.2f}\")\n",
    "    return tokens\n",
    "\n",
    "### --- STEP 4: Extract chord tokens from markers ---\n",
    "def extract_chord_tokens(midi):\n",
    "    markers = midi.markers\n",
    "    ticks_per_beat = midi.ticks_per_beat\n",
    "    chord_tokens = []\n",
    "    for marker in markers:\n",
    "        beat = marker.time / ticks_per_beat\n",
    "        chord_name = marker.text.strip()\n",
    "        chord_tokens.append((beat, f\"[{chord_name}]\"))\n",
    "    return chord_tokens\n",
    "\n",
    "### --- STEP 5: Align chords to melody time grid ---\n",
    "def align_chords(chord_tokens, melody_tokens, step=0.25):\n",
    "    melody_len = len(melody_tokens)\n",
    "    result = []\n",
    "    current_chord = '[N]'  # default: no chord\n",
    "    chord_idx = 0\n",
    "    chord_times = [beat for beat, _ in chord_tokens]\n",
    "\n",
    "    for i in range(melody_len):\n",
    "        time = i * step\n",
    "        while chord_idx + 1 < len(chord_tokens) and chord_times[chord_idx + 1] <= time:\n",
    "            chord_idx += 1\n",
    "        if chord_tokens:\n",
    "            current_chord = chord_tokens[chord_idx][1]\n",
    "        result.append(current_chord)\n",
    "    return result\n",
    "\n",
    "### --- STEP 6: Extract token pair for one file ---\n",
    "def extract_token_pair(chord_path, melody_path, step=0.25):\n",
    "    chords_midi, melody_midi = load_pair(chord_path, melody_path)\n",
    "    melody_tokens = extract_melody_tokens(melody_midi, quantize_step=step)\n",
    "    chord_tokens_raw = extract_chord_tokens(chords_midi)\n",
    "    chord_tokens = align_chords(chord_tokens_raw, melody_tokens, step=step)\n",
    "    return chord_tokens, melody_tokens\n",
    "\n",
    "### --- STEP 7: Load all pairs into memory ---\n",
    "def extract_all_token_pairs(midi_root, step=0.25):\n",
    "    pairs = get_melody_chord_pairs(midi_root)\n",
    "    all_data = []\n",
    "    for chord_path, melody_path in pairs:\n",
    "        try:\n",
    "            chords, melody = extract_token_pair(chord_path, melody_path, step=step)\n",
    "            if len(chords) == len(melody) and len(chords) > 0:\n",
    "                all_data.append((chords, melody))\n",
    "        except Exception as e:\n",
    "            print(f\"Failed on {chord_path} / {melody_path}: {e}\")\n",
    "    return all_data\n",
    "\n",
    "### --- STEP 8: Example usage ---\n",
    "midi_root = \"nottingham-dataset/MIDI\"\n",
    "data = extract_all_token_pairs(midi_root, step=0.25)\n",
    "\n",
    "print(f\"✅ Extracted {len(data)} chord–melody token sequences.\")\n",
    "print(\"🎵 Sample chord tokens:\", data[0][0][:10])\n",
    "print(\"🎶 Sample melody tokens:\", data[0][1][:10])\n"
   ]
  },
  {
   "cell_type": "markdown",
   "id": "2a9aa13e",
   "metadata": {},
   "source": [
    "### Map"
   ]
  },
  {
   "cell_type": "code",
   "execution_count": null,
   "id": "6f84dffc",
   "metadata": {},
   "outputs": [],
   "source": [
    "# After collecting all tokenized data\n",
    "token_set = set()\n",
    "for chords, melody in dataset.data:\n",
    "    token_set.update(chords)\n",
    "    token_set.update(melody)\n",
    "\n",
    "token2idx = {token: i for i, token in enumerate(sorted(token_set))}\n",
    "idx2token = {i: token for token, i in token2idx.items()}"
   ]
  },
  {
   "cell_type": "markdown",
   "id": "a1dd1b83",
   "metadata": {},
   "source": [
    "### Skeleton"
   ]
  },
  {
   "cell_type": "code",
   "execution_count": null,
   "id": "ae5f0bc6",
   "metadata": {},
   "outputs": [],
   "source": [
    "def collate_fn(batch):\n",
    "    chord_batch, melody_batch = zip(*batch)\n",
    "    # Convert to padded tensors here (you can use torch.nn.utils.rnn.pad_sequence)\n",
    "    # Or just truncate/zero-pad manually for now\n",
    "    return chord_tensor, melody_tensor\n",
    "\n",
    "loader = DataLoader(dataset, batch_size=16, shuffle=True, collate_fn=collate_fn)\n",
    "\n",
    "model = ChordToMelody(vocab_size=len(token2idx)).to(device)\n",
    "optimizer = torch.optim.Adam(model.parameters(), lr=1e-3)\n",
    "loss_fn = nn.CrossEntropyLoss()\n",
    "\n",
    "for epoch in range(10):\n",
    "    model.train()\n",
    "    for chords, melodies in loader:\n",
    "        logits = model(chords, melodies[:, :-1])\n",
    "        loss = loss_fn(logits.reshape(-1, logits.size(-1)), melodies[:, 1:].reshape(-1))\n",
    "        optimizer.zero_grad()\n",
    "        loss.backward()\n",
    "        optimizer.step()\n",
    "    print(f\"Epoch {epoch}: Loss {loss.item():.4f}\")\n"
   ]
  },
  {
   "cell_type": "code",
   "execution_count": 35,
   "id": "026e7f09",
   "metadata": {},
   "outputs": [
    {
     "name": "stdout",
     "output_type": "stream",
     "text": [
      "📁 Subdirectories: ['chords', 'melody']\n",
      "✅ Exists: True\n",
      "📁 Contents: ['ashover1.mid', 'ashover10.mid', 'ashover11.mid', 'ashover12.mid', 'ashover13.mid', 'ashover14.mid', 'ashover15.mid', 'ashover16.mid', 'ashover17.mid', 'ashover18.mid', 'ashover19.mid', 'ashover2.mid', 'ashover20.mid', 'ashover21.mid', 'ashover22.mid', 'ashover23.mid', 'ashover24.mid', 'ashover25.mid', 'ashover26.mid', 'ashover27.mid', 'ashover28.mid', 'ashover29.mid', 'ashover3.mid', 'ashover30.mid', 'ashover31.mid', 'ashover32.mid', 'ashover33.mid', 'ashover34.mid', 'ashover35.mid', 'ashover36.mid', 'ashover37.mid', 'ashover38.mid', 'ashover39.mid', 'ashover4.mid', 'ashover40.mid', 'ashover41.mid', 'ashover42.mid', 'ashover43.mid', 'ashover44.mid', 'ashover45.mid', 'ashover46.mid', 'ashover5.mid', 'ashover6.mid', 'ashover7.mid', 'ashover8.mid', 'ashover9.mid', 'chords', 'hpps1.mid', 'hpps10.mid', 'hpps11.mid', 'hpps12.mid', 'hpps13.mid', 'hpps14.mid', 'hpps15.mid', 'hpps16.mid', 'hpps17.mid', 'hpps18.mid', 'hpps19.mid', 'hpps2.mid', 'hpps20.mid', 'hpps21.mid', 'hpps22.mid', 'hpps23.mid', 'hpps24.mid', 'hpps25.mid', 'hpps26.mid', 'hpps27.mid', 'hpps28.mid', 'hpps29.mid', 'hpps3.mid', 'hpps30.mid', 'hpps31.mid', 'hpps32.mid', 'hpps33.mid', 'hpps34.mid', 'hpps35.mid', 'hpps36.mid', 'hpps37.mid', 'hpps38.mid', 'hpps39.mid', 'hpps4.mid', 'hpps40.mid', 'hpps41.mid', 'hpps42.mid', 'hpps43.mid', 'hpps44.mid', 'hpps45.mid', 'hpps46.mid', 'hpps47.mid', 'hpps48.mid', 'hpps49.mid', 'hpps5.mid', 'hpps50.mid', 'hpps51.mid', 'hpps52.mid', 'hpps53.mid', 'hpps54.mid', 'hpps55.mid', 'hpps56.mid', 'hpps57.mid', 'hpps58.mid', 'hpps59.mid', 'hpps6.mid', 'hpps60.mid', 'hpps61.mid', 'hpps62.mid', 'hpps63.mid', 'hpps64.mid', 'hpps65.mid', 'hpps7.mid', 'hpps8.mid', 'hpps9.mid', 'jigs1.mid', 'jigs10.mid', 'jigs100.mid', 'jigs101.mid', 'jigs102.mid', 'jigs103.mid', 'jigs104.mid', 'jigs105.mid', 'jigs106.mid', 'jigs107.mid', 'jigs108.mid', 'jigs109.mid', 'jigs11.mid', 'jigs110.mid', 'jigs111.mid', 'jigs112.mid', 'jigs113.mid', 'jigs114.mid', 'jigs115.mid', 'jigs116.mid', 'jigs117.mid', 'jigs118.mid', 'jigs119.mid', 'jigs12.mid', 'jigs120.mid', 'jigs121.mid', 'jigs122.mid', 'jigs123.mid', 'jigs124.mid', 'jigs125.mid', 'jigs126.mid', 'jigs127.mid', 'jigs128.mid', 'jigs129.mid', 'jigs13.mid', 'jigs130.mid', 'jigs131.mid', 'jigs132.mid', 'jigs133.mid', 'jigs134.mid', 'jigs135.mid', 'jigs136.mid', 'jigs137.mid', 'jigs138.mid', 'jigs139.mid', 'jigs14.mid', 'jigs140.mid', 'jigs141.mid', 'jigs142.mid', 'jigs143.mid', 'jigs144.mid', 'jigs145.mid', 'jigs146.mid', 'jigs147.mid', 'jigs148.mid', 'jigs149.mid', 'jigs15.mid', 'jigs150.mid', 'jigs151.mid', 'jigs152.mid', 'jigs153.mid', 'jigs154.mid', 'jigs155.mid', 'jigs156.mid', 'jigs157.mid', 'jigs158.mid', 'jigs159.mid', 'jigs16.mid', 'jigs160.mid', 'jigs161.mid', 'jigs162.mid', 'jigs163.mid', 'jigs164.mid', 'jigs165.mid', 'jigs166.mid', 'jigs167.mid', 'jigs168.mid', 'jigs169.mid', 'jigs17.mid', 'jigs170.mid', 'jigs171.mid', 'jigs172.mid', 'jigs173.mid', 'jigs174.mid', 'jigs175.mid', 'jigs176.mid', 'jigs177.mid', 'jigs178.mid', 'jigs179.mid', 'jigs18.mid', 'jigs180.mid', 'jigs181.mid', 'jigs182.mid', 'jigs183.mid', 'jigs184.mid', 'jigs185.mid', 'jigs186.mid', 'jigs187.mid', 'jigs188.mid', 'jigs189.mid', 'jigs19.mid', 'jigs190.mid', 'jigs191.mid', 'jigs192.mid', 'jigs193.mid', 'jigs194.mid', 'jigs195.mid', 'jigs196.mid', 'jigs197.mid', 'jigs198.mid', 'jigs199.mid', 'jigs2.mid', 'jigs20.mid', 'jigs200.mid', 'jigs201.mid', 'jigs202.mid', 'jigs203.mid', 'jigs204.mid', 'jigs205.mid', 'jigs206.mid', 'jigs207.mid', 'jigs208.mid', 'jigs209.mid', 'jigs21.mid', 'jigs210.mid', 'jigs211.mid', 'jigs212.mid', 'jigs213.mid', 'jigs214.mid', 'jigs215.mid', 'jigs216.mid', 'jigs217.mid', 'jigs218.mid', 'jigs219.mid', 'jigs22.mid', 'jigs220.mid', 'jigs221.mid', 'jigs222.mid', 'jigs223.mid', 'jigs224.mid', 'jigs225.mid', 'jigs226.mid', 'jigs227.mid', 'jigs228.mid', 'jigs229.mid', 'jigs23.mid', 'jigs230.mid', 'jigs231.mid', 'jigs232.mid', 'jigs233.mid', 'jigs234.mid', 'jigs235.mid', 'jigs236.mid', 'jigs237.mid', 'jigs238.mid', 'jigs239.mid', 'jigs24.mid', 'jigs240.mid', 'jigs241.mid', 'jigs242.mid', 'jigs243.mid', 'jigs244.mid', 'jigs245.mid', 'jigs246.mid', 'jigs247.mid', 'jigs248.mid', 'jigs249.mid', 'jigs25.mid', 'jigs250.mid', 'jigs251.mid', 'jigs252.mid', 'jigs253.mid', 'jigs254.mid', 'jigs255.mid', 'jigs256.mid', 'jigs257.mid', 'jigs258.mid', 'jigs259.mid', 'jigs26.mid', 'jigs260.mid', 'jigs261.mid', 'jigs262.mid', 'jigs263.mid', 'jigs264.mid', 'jigs265.mid', 'jigs266.mid', 'jigs267.mid', 'jigs268.mid', 'jigs269.mid', 'jigs27.mid', 'jigs270.mid', 'jigs271.mid', 'jigs272.mid', 'jigs273.mid', 'jigs274.mid', 'jigs275.mid', 'jigs276.mid', 'jigs277.mid', 'jigs278.mid', 'jigs279.mid', 'jigs28.mid', 'jigs280.mid', 'jigs281.mid', 'jigs282.mid', 'jigs283.mid', 'jigs284.mid', 'jigs285.mid', 'jigs286.mid', 'jigs287.mid', 'jigs288.mid', 'jigs289.mid', 'jigs29.mid', 'jigs290.mid', 'jigs291.mid', 'jigs292.mid', 'jigs293.mid', 'jigs294.mid', 'jigs295.mid', 'jigs296.mid', 'jigs297.mid', 'jigs298.mid', 'jigs299.mid', 'jigs3.mid', 'jigs30.mid', 'jigs300.mid', 'jigs301.mid', 'jigs302.mid', 'jigs303.mid', 'jigs304.mid', 'jigs305.mid', 'jigs306.mid', 'jigs307.mid', 'jigs308.mid', 'jigs309.mid', 'jigs31.mid', 'jigs310.mid', 'jigs311.mid', 'jigs312.mid', 'jigs313.mid', 'jigs314.mid', 'jigs315.mid', 'jigs316.mid', 'jigs317.mid', 'jigs318.mid', 'jigs319.mid', 'jigs32.mid', 'jigs320.mid', 'jigs321.mid', 'jigs322.mid', 'jigs323.mid', 'jigs324.mid', 'jigs325.mid', 'jigs326.mid', 'jigs327.mid', 'jigs328.mid', 'jigs329.mid', 'jigs33.mid', 'jigs330.mid', 'jigs331.mid', 'jigs332.mid', 'jigs333.mid', 'jigs334.mid', 'jigs335.mid', 'jigs336.mid', 'jigs337.mid', 'jigs338.mid', 'jigs339.mid', 'jigs34.mid', 'jigs340.mid', 'jigs35.mid', 'jigs36.mid', 'jigs37.mid', 'jigs38.mid', 'jigs39.mid', 'jigs4.mid', 'jigs40.mid', 'jigs41.mid', 'jigs42.mid', 'jigs43.mid', 'jigs44.mid', 'jigs45.mid', 'jigs46.mid', 'jigs47.mid', 'jigs48.mid', 'jigs49.mid', 'jigs5.mid', 'jigs50.mid', 'jigs51.mid', 'jigs52.mid', 'jigs53.mid', 'jigs54.mid', 'jigs55.mid', 'jigs56.mid', 'jigs57.mid', 'jigs58.mid', 'jigs59.mid', 'jigs6.mid', 'jigs60.mid', 'jigs61.mid', 'jigs62.mid', 'jigs63.mid', 'jigs64.mid', 'jigs65.mid', 'jigs66.mid', 'jigs67.mid', 'jigs68.mid', 'jigs69.mid', 'jigs7.mid', 'jigs70.mid', 'jigs71.mid', 'jigs72.mid', 'jigs73.mid', 'jigs74.mid', 'jigs75.mid', 'jigs76.mid', 'jigs77.mid', 'jigs78.mid', 'jigs79.mid', 'jigs8.mid', 'jigs80.mid', 'jigs81.mid', 'jigs82.mid', 'jigs83.mid', 'jigs84.mid', 'jigs85.mid', 'jigs86.mid', 'jigs87.mid', 'jigs88.mid', 'jigs89.mid', 'jigs9.mid', 'jigs90.mid', 'jigs91.mid', 'jigs92.mid', 'jigs93.mid', 'jigs94.mid', 'jigs95.mid', 'jigs96.mid', 'jigs97.mid', 'jigs98.mid', 'jigs99.mid', 'melody', 'morris1.mid', 'morris10.mid', 'morris11.mid', 'morris12.mid', 'morris13.mid', 'morris14.mid', 'morris15.mid', 'morris16.mid', 'morris17.mid', 'morris18.mid', 'morris19.mid', 'morris2.mid', 'morris20.mid', 'morris21.mid', 'morris22.mid', 'morris23.mid', 'morris24.mid', 'morris25.mid', 'morris26.mid', 'morris27.mid', 'morris28.mid', 'morris29.mid', 'morris3.mid', 'morris30.mid', 'morris31.mid', 'morris4.mid', 'morris5.mid', 'morris6.mid', 'morris7.mid', 'morris8.mid', 'morris9.mid', 'playford1.mid', 'playford10.mid', 'playford11.mid', 'playford12.mid', 'playford13.mid', 'playford14.mid', 'playford15.mid', 'playford2.mid', 'playford3.mid', 'playford4.mid', 'playford5.mid', 'playford6.mid', 'playford7.mid', 'playford8.mid', 'playford9.mid', 'reelsa-c1.mid', 'reelsa-c10.mid', 'reelsa-c11.mid', 'reelsa-c12.mid', 'reelsa-c13.mid', 'reelsa-c14.mid', 'reelsa-c15.mid', 'reelsa-c16.mid', 'reelsa-c17.mid', 'reelsa-c18.mid', 'reelsa-c19.mid', 'reelsa-c2.mid', 'reelsa-c20.mid', 'reelsa-c21.mid', 'reelsa-c22.mid', 'reelsa-c23.mid', 'reelsa-c24.mid', 'reelsa-c25.mid', 'reelsa-c26.mid', 'reelsa-c27.mid', 'reelsa-c28.mid', 'reelsa-c29.mid', 'reelsa-c3.mid', 'reelsa-c30.mid', 'reelsa-c31.mid', 'reelsa-c32.mid', 'reelsa-c33.mid', 'reelsa-c34.mid', 'reelsa-c35.mid', 'reelsa-c36.mid', 'reelsa-c37.mid', 'reelsa-c38.mid', 'reelsa-c39.mid', 'reelsa-c4.mid', 'reelsa-c40.mid', 'reelsa-c41.mid', 'reelsa-c42.mid', 'reelsa-c43.mid', 'reelsa-c44.mid', 'reelsa-c45.mid', 'reelsa-c46.mid', 'reelsa-c47.mid', 'reelsa-c48.mid', 'reelsa-c49.mid', 'reelsa-c5.mid', 'reelsa-c50.mid', 'reelsa-c51.mid', 'reelsa-c52.mid', 'reelsa-c53.mid', 'reelsa-c54.mid', 'reelsa-c55.mid', 'reelsa-c56.mid', 'reelsa-c57.mid', 'reelsa-c58.mid', 'reelsa-c59.mid', 'reelsa-c6.mid', 'reelsa-c60.mid', 'reelsa-c61.mid', 'reelsa-c62.mid', 'reelsa-c63.mid', 'reelsa-c64.mid', 'reelsa-c65.mid', 'reelsa-c66.mid', 'reelsa-c67.mid', 'reelsa-c68.mid', 'reelsa-c69.mid', 'reelsa-c7.mid', 'reelsa-c70.mid', 'reelsa-c71.mid', 'reelsa-c72.mid', 'reelsa-c73.mid', 'reelsa-c74.mid', 'reelsa-c75.mid', 'reelsa-c76.mid', 'reelsa-c77.mid', 'reelsa-c78.mid', 'reelsa-c79.mid', 'reelsa-c8.mid', 'reelsa-c80.mid', 'reelsa-c81.mid', 'reelsa-c9.mid', 'reelsd-g1.mid', 'reelsd-g10.mid', 'reelsd-g11.mid', 'reelsd-g12.mid', 'reelsd-g13.mid', 'reelsd-g14.mid', 'reelsd-g15.mid', 'reelsd-g16.mid', 'reelsd-g17.mid', 'reelsd-g18.mid', 'reelsd-g19.mid', 'reelsd-g2.mid', 'reelsd-g20.mid', 'reelsd-g21.mid', 'reelsd-g22.mid', 'reelsd-g23.mid', 'reelsd-g24.mid', 'reelsd-g25.mid', 'reelsd-g26.mid', 'reelsd-g27.mid', 'reelsd-g28.mid', 'reelsd-g29.mid', 'reelsd-g3.mid', 'reelsd-g30.mid', 'reelsd-g31.mid', 'reelsd-g32.mid', 'reelsd-g33.mid', 'reelsd-g34.mid', 'reelsd-g35.mid', 'reelsd-g36.mid', 'reelsd-g37.mid', 'reelsd-g38.mid', 'reelsd-g39.mid', 'reelsd-g4.mid', 'reelsd-g40.mid', 'reelsd-g41.mid', 'reelsd-g42.mid', 'reelsd-g43.mid', 'reelsd-g44.mid', 'reelsd-g45.mid', 'reelsd-g46.mid', 'reelsd-g47.mid', 'reelsd-g48.mid', 'reelsd-g49.mid', 'reelsd-g5.mid', 'reelsd-g50.mid', 'reelsd-g51.mid', 'reelsd-g52.mid', 'reelsd-g53.mid', 'reelsd-g54.mid', 'reelsd-g55.mid', 'reelsd-g56.mid', 'reelsd-g57.mid', 'reelsd-g58.mid', 'reelsd-g59.mid', 'reelsd-g6.mid', 'reelsd-g60.mid', 'reelsd-g61.mid', 'reelsd-g62.mid', 'reelsd-g63.mid', 'reelsd-g64.mid', 'reelsd-g65.mid', 'reelsd-g66.mid', 'reelsd-g67.mid', 'reelsd-g68.mid', 'reelsd-g69.mid', 'reelsd-g7.mid', 'reelsd-g70.mid', 'reelsd-g71.mid', 'reelsd-g72.mid', 'reelsd-g73.mid', 'reelsd-g74.mid', 'reelsd-g75.mid', 'reelsd-g76.mid', 'reelsd-g77.mid', 'reelsd-g78.mid', 'reelsd-g79.mid', 'reelsd-g8.mid', 'reelsd-g80.mid', 'reelsd-g81.mid', 'reelsd-g82.mid', 'reelsd-g83.mid', 'reelsd-g84.mid', 'reelsd-g9.mid', 'reelsh-l1.mid', 'reelsh-l10.mid', 'reelsh-l11.mid', 'reelsh-l12.mid', 'reelsh-l13.mid', 'reelsh-l14.mid', 'reelsh-l15.mid', 'reelsh-l16.mid', 'reelsh-l17.mid', 'reelsh-l18.mid', 'reelsh-l19.mid', 'reelsh-l2.mid', 'reelsh-l20.mid', 'reelsh-l21.mid', 'reelsh-l22.mid', 'reelsh-l23.mid', 'reelsh-l24.mid', 'reelsh-l25.mid', 'reelsh-l26.mid', 'reelsh-l27.mid', 'reelsh-l28.mid', 'reelsh-l29.mid', 'reelsh-l3.mid', 'reelsh-l30.mid', 'reelsh-l31.mid', 'reelsh-l32.mid', 'reelsh-l33.mid', 'reelsh-l34.mid', 'reelsh-l35.mid', 'reelsh-l36.mid', 'reelsh-l37.mid', 'reelsh-l38.mid', 'reelsh-l39.mid', 'reelsh-l4.mid', 'reelsh-l40.mid', 'reelsh-l41.mid', 'reelsh-l42.mid', 'reelsh-l43.mid', 'reelsh-l44.mid', 'reelsh-l45.mid', 'reelsh-l46.mid', 'reelsh-l47.mid', 'reelsh-l5.mid', 'reelsh-l51.mid', 'reelsh-l52.mid', 'reelsh-l53.mid', 'reelsh-l54.mid', 'reelsh-l55.mid', 'reelsh-l56.mid', 'reelsh-l57.mid', 'reelsh-l58.mid', 'reelsh-l59.mid', 'reelsh-l6.mid', 'reelsh-l60.mid', 'reelsh-l61.mid', 'reelsh-l62.mid', 'reelsh-l63.mid', 'reelsh-l64.mid', 'reelsh-l65.mid', 'reelsh-l66.mid', 'reelsh-l67.mid', 'reelsh-l68.mid', 'reelsh-l69.mid', 'reelsh-l7.mid', 'reelsh-l70.mid', 'reelsh-l71.mid', 'reelsh-l72.mid', 'reelsh-l73.mid', 'reelsh-l74.mid', 'reelsh-l75.mid', 'reelsh-l76.mid', 'reelsh-l77.mid', 'reelsh-l78.mid', 'reelsh-l79.mid', 'reelsh-l8.mid', 'reelsh-l80.mid', 'reelsh-l81.mid', 'reelsh-l82.mid', 'reelsh-l83.mid', 'reelsh-l84.mid', 'reelsh-l85.mid', 'reelsh-l86.mid', 'reelsh-l87.mid', 'reelsh-l88.mid', 'reelsh-l89.mid', 'reelsh-l9.mid', 'reelsh-l90.mid', 'reelsh-l91.mid', 'reelsh-l92.mid', 'reelsh-l93.mid', 'reelsm-q1.mid', 'reelsm-q10.mid', 'reelsm-q11.mid', 'reelsm-q12.mid', 'reelsm-q13.mid', 'reelsm-q14.mid', 'reelsm-q15.mid', 'reelsm-q16.mid', 'reelsm-q17.mid', 'reelsm-q18.mid', 'reelsm-q19.mid', 'reelsm-q2.mid', 'reelsm-q20.mid', 'reelsm-q21.mid', 'reelsm-q22.mid', 'reelsm-q23.mid', 'reelsm-q24.mid', 'reelsm-q25.mid', 'reelsm-q26.mid', 'reelsm-q27.mid', 'reelsm-q28.mid', 'reelsm-q29.mid', 'reelsm-q3.mid', 'reelsm-q30.mid', 'reelsm-q31.mid', 'reelsm-q32.mid', 'reelsm-q33.mid', 'reelsm-q34.mid', 'reelsm-q35.mid', 'reelsm-q36.mid', 'reelsm-q37.mid', 'reelsm-q38.mid', 'reelsm-q39.mid', 'reelsm-q4.mid', 'reelsm-q40.mid', 'reelsm-q41.mid', 'reelsm-q42.mid', 'reelsm-q43.mid', 'reelsm-q44.mid', 'reelsm-q45.mid', 'reelsm-q46.mid', 'reelsm-q47.mid', 'reelsm-q48.mid', 'reelsm-q49.mid', 'reelsm-q5.mid', 'reelsm-q50.mid', 'reelsm-q51.mid', 'reelsm-q52.mid', 'reelsm-q53.mid', 'reelsm-q54.mid', 'reelsm-q55.mid', 'reelsm-q56.mid', 'reelsm-q57.mid', 'reelsm-q58.mid', 'reelsm-q59.mid', 'reelsm-q6.mid', 'reelsm-q60.mid', 'reelsm-q61.mid', 'reelsm-q62.mid', 'reelsm-q63.mid', 'reelsm-q64.mid', 'reelsm-q65.mid', 'reelsm-q66.mid', 'reelsm-q67.mid', 'reelsm-q68.mid', 'reelsm-q69.mid', 'reelsm-q7.mid', 'reelsm-q70.mid', 'reelsm-q71.mid', 'reelsm-q72.mid', 'reelsm-q73.mid', 'reelsm-q74.mid', 'reelsm-q75.mid', 'reelsm-q76.mid', 'reelsm-q77.mid', 'reelsm-q78.mid', 'reelsm-q79.mid', 'reelsm-q8.mid', 'reelsm-q80.mid', 'reelsm-q9.mid', 'reelsr-t1.mid', 'reelsr-t10.mid', 'reelsr-t11.mid', 'reelsr-t12.mid', 'reelsr-t13.mid', 'reelsr-t14.mid', 'reelsr-t15.mid', 'reelsr-t16.mid', 'reelsr-t17.mid', 'reelsr-t18.mid', 'reelsr-t19.mid', 'reelsr-t2.mid', 'reelsr-t20.mid', 'reelsr-t21.mid', 'reelsr-t22.mid', 'reelsr-t23.mid', 'reelsr-t24.mid', 'reelsr-t25.mid', 'reelsr-t26.mid', 'reelsr-t27.mid', 'reelsr-t28.mid', 'reelsr-t29.mid', 'reelsr-t3.mid', 'reelsr-t30.mid', 'reelsr-t31.mid', 'reelsr-t32.mid', 'reelsr-t33.mid', 'reelsr-t34.mid', 'reelsr-t35.mid', 'reelsr-t36.mid', 'reelsr-t37.mid', 'reelsr-t38.mid', 'reelsr-t39.mid', 'reelsr-t4.mid', 'reelsr-t40.mid', 'reelsr-t41.mid', 'reelsr-t42.mid', 'reelsr-t43.mid', 'reelsr-t44.mid', 'reelsr-t45.mid', 'reelsr-t46.mid', 'reelsr-t47.mid', 'reelsr-t48.mid', 'reelsr-t49.mid', 'reelsr-t5.mid', 'reelsr-t50.mid', 'reelsr-t51.mid', 'reelsr-t52.mid', 'reelsr-t53.mid', 'reelsr-t54.mid', 'reelsr-t55.mid', 'reelsr-t56.mid', 'reelsr-t57.mid', 'reelsr-t58.mid', 'reelsr-t59.mid', 'reelsr-t6.mid', 'reelsr-t60.mid', 'reelsr-t61.mid', 'reelsr-t62.mid', 'reelsr-t63.mid', 'reelsr-t64.mid', 'reelsr-t65.mid', 'reelsr-t66.mid', 'reelsr-t67.mid', 'reelsr-t68.mid', 'reelsr-t69.mid', 'reelsr-t7.mid', 'reelsr-t70.mid', 'reelsr-t71.mid', 'reelsr-t72.mid', 'reelsr-t73.mid', 'reelsr-t74.mid', 'reelsr-t75.mid', 'reelsr-t76.mid', 'reelsr-t77.mid', 'reelsr-t78.mid', 'reelsr-t79.mid', 'reelsr-t8.mid', 'reelsr-t80.mid', 'reelsr-t81.mid', 'reelsr-t82.mid', 'reelsr-t83.mid', 'reelsr-t84.mid', 'reelsr-t85.mid', 'reelsr-t86.mid', 'reelsr-t87.mid', 'reelsr-t88.mid', 'reelsr-t89.mid', 'reelsr-t9.mid', 'reelsr-t90.mid', 'reelsr-t91.mid', 'reelsr-t92.mid', 'reelsu-z1.mid', 'reelsu-z10.mid', 'reelsu-z11.mid', 'reelsu-z12.mid', 'reelsu-z13.mid', 'reelsu-z14.mid', 'reelsu-z15.mid', 'reelsu-z16.mid', 'reelsu-z17.mid', 'reelsu-z18.mid', 'reelsu-z19.mid', 'reelsu-z2.mid', 'reelsu-z20.mid', 'reelsu-z21.mid', 'reelsu-z22.mid', 'reelsu-z23.mid', 'reelsu-z24.mid', 'reelsu-z25.mid', 'reelsu-z26.mid', 'reelsu-z27.mid', 'reelsu-z28.mid', 'reelsu-z29.mid', 'reelsu-z3.mid', 'reelsu-z30.mid', 'reelsu-z31.mid', 'reelsu-z32.mid', 'reelsu-z33.mid', 'reelsu-z34.mid', 'reelsu-z4.mid', 'reelsu-z5.mid', 'reelsu-z6.mid', 'reelsu-z7.mid', 'reelsu-z8.mid', 'reelsu-z9.mid', 'slip1.mid', 'slip10.mid', 'slip11.mid', 'slip2.mid', 'slip3.mid', 'slip4.mid', 'slip5.mid', 'slip6.mid', 'slip7.mid', 'slip8.mid', 'slip9.mid', 'waltzes1.mid', 'waltzes10.mid', 'waltzes11.mid', 'waltzes12.mid', 'waltzes13.mid', 'waltzes14.mid', 'waltzes15.mid', 'waltzes16.mid', 'waltzes17.mid', 'waltzes18.mid', 'waltzes19.mid', 'waltzes2.mid', 'waltzes20.mid', 'waltzes21.mid', 'waltzes22.mid', 'waltzes23.mid', 'waltzes24.mid', 'waltzes25.mid', 'waltzes26.mid', 'waltzes27.mid', 'waltzes28.mid', 'waltzes29.mid', 'waltzes3.mid', 'waltzes30.mid', 'waltzes31.mid', 'waltzes32.mid', 'waltzes33.mid', 'waltzes34.mid', 'waltzes35.mid', 'waltzes36.mid', 'waltzes37.mid', 'waltzes38.mid', 'waltzes39.mid', 'waltzes4.mid', 'waltzes40.mid', 'waltzes41.mid', 'waltzes42.mid', 'waltzes43.mid', 'waltzes44.mid', 'waltzes45.mid', 'waltzes46.mid', 'waltzes47.mid', 'waltzes48.mid', 'waltzes49.mid', 'waltzes5.mid', 'waltzes50.mid', 'waltzes51.mid', 'waltzes52.mid', 'waltzes6.mid', 'waltzes7.mid', 'waltzes8.mid', 'waltzes9.mid', 'xmas1.mid', 'xmas10.mid', 'xmas11.mid', 'xmas12.mid', 'xmas13.mid', 'xmas2.mid', 'xmas3.mid', 'xmas4.mid', 'xmas5.mid', 'xmas6.mid', 'xmas7.mid', 'xmas8.mid', 'xmas9.mid']\n",
      "Current working directory: c:\\Users\\travm\\OneDrive\\Desktop\\cse 153\\cse153assign2\n"
     ]
    }
   ],
   "source": [
    "\n",
    "def list_subdirectories(path):\n",
    "    return [name for name in os.listdir(path)\n",
    "            if os.path.isdir(os.path.join(path, name))]\n",
    "\n",
    "midi_root = \"nottingham-dataset/MIDI\"\n",
    "subdirs = list_subdirectories(midi_root)\n",
    "print(\"📁 Subdirectories:\", subdirs)\n",
    "midi_root = \"nottingham-dataset/MIDI\"\n",
    "print(\"✅ Exists:\", os.path.exists(midi_root))\n",
    "print(\"📁 Contents:\", os.listdir(midi_root))\n",
    "\n",
    "print(\"Current working directory:\", os.getcwd())"
   ]
  }
 ],
 "metadata": {
  "kernelspec": {
   "display_name": "Python 3",
   "language": "python",
   "name": "python3"
  },
  "language_info": {
   "codemirror_mode": {
    "name": "ipython",
    "version": 3
   },
   "file_extension": ".py",
   "mimetype": "text/x-python",
   "name": "python",
   "nbconvert_exporter": "python",
   "pygments_lexer": "ipython3",
   "version": "3.11.5"
  }
 },
 "nbformat": 4,
 "nbformat_minor": 5
}
